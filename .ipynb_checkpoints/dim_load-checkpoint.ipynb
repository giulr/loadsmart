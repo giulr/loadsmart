{
 "cells": [
  {
   "cell_type": "code",
   "execution_count": 8,
   "id": "common-semester",
   "metadata": {},
   "outputs": [],
   "source": [
    "import pandas as pd\n",
    "import connection_utils as conn\n",
    "import pandas.io.sql as psql"
   ]
  },
  {
   "cell_type": "code",
   "execution_count": 10,
   "id": "earlier-thought",
   "metadata": {},
   "outputs": [
    {
     "name": "stdout",
     "output_type": "stream",
     "text": [
      "load dimension table has already been created\n"
     ]
    }
   ],
   "source": [
    "def execute():\n",
    "    connection = conn.connect()\n",
    "\n",
    "    df_load = psql.read_sql(''' SELECT DISTINCT load_booked_autonomously, \n",
    "    load_sourced_autonomously, load_was_cancelled, contracted_load  FROM raw_data_challenge''', con=connection)\n",
    "\n",
    "    if not conn.check_table_existence(connection.cursor(), 'load_dim'):\n",
    "        create_dim_carrier = ('''\n",
    "                       CREATE TABLE public.load_dim\n",
    "                        (\n",
    "                            load_dim_id serial NOT NULL,\n",
    "                            load_booked_autonomously boolean,\n",
    "                            load_sourced_autonomously boolean,\n",
    "                            load_was_cancelled boolean,\n",
    "                            contracted_load boolean,\n",
    "                            PRIMARY KEY (load_dim_id)\n",
    "                        );\n",
    "\n",
    "                        ALTER TABLE public.load_dim\n",
    "                            OWNER to postgres;\n",
    "        ''')\n",
    "        connection.cursor().execute(create_dim_carrier)\n",
    "        connection.commit()\n",
    "        print('load dimension table created successfully')\n",
    "    else:\n",
    "        print('load dimension table has already been created')\n",
    "\n",
    "    conn.insert(df_load, connection, 'load_dim')\n",
    "    connection.close()"
   ]
  }
 ],
 "metadata": {
  "kernelspec": {
   "display_name": "Python 3",
   "language": "python",
   "name": "python3"
  },
  "language_info": {
   "codemirror_mode": {
    "name": "ipython",
    "version": 3
   },
   "file_extension": ".py",
   "mimetype": "text/x-python",
   "name": "python",
   "nbconvert_exporter": "python",
   "pygments_lexer": "ipython3",
   "version": "3.9.2"
  }
 },
 "nbformat": 4,
 "nbformat_minor": 5
}
