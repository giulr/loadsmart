{
 "cells": [
  {
   "cell_type": "code",
   "execution_count": 6,
   "id": "abandoned-france",
   "metadata": {},
   "outputs": [],
   "source": [
    "import raw_database as raw\n",
    "import fact_table as fact\n",
    "import dim_shipper as dim_shipper\n",
    "import dim_lane as dim_lane\n",
    "import dim_load as dim_load\n",
    "import dim_tracking as dim_tracking\n",
    "import carrier_dim as dim_carrier\n",
    "import connection_utils as conn"
   ]
  },
  {
   "cell_type": "code",
   "execution_count": 7,
   "id": "portuguese-sheffield",
   "metadata": {},
   "outputs": [
    {
     "name": "stdout",
     "output_type": "stream",
     "text": [
      "raw table created successfully\n",
      "fact table created successfully\n",
      "lane dimension table created successfully\n",
      "load dimension table created successfully\n",
      "carrier dimension table created successfully\n",
      "tracking dimension table created successfully\n",
      "fact table created successfully\n"
     ]
    }
   ],
   "source": [
    "raw.execute() #Raw database Creation\n",
    "\n",
    "dim_shipper.execute() #shipper dimension creation\n",
    "\n",
    "dim_lane.execute() #lane dimension creation\n",
    "\n",
    "dim_load.execute() #load dimension creation\n",
    "\n",
    "dim_carrier.execute() #carrier dimension creation\n",
    "\n",
    "dim_tracking.execute() #tracking dimension creation\n",
    "\n",
    "fact.execute() #fact table creation"
   ]
  }
 ],
 "metadata": {
  "kernelspec": {
   "display_name": "Python 3",
   "language": "python",
   "name": "python3"
  },
  "language_info": {
   "codemirror_mode": {
    "name": "ipython",
    "version": 3
   },
   "file_extension": ".py",
   "mimetype": "text/x-python",
   "name": "python",
   "nbconvert_exporter": "python",
   "pygments_lexer": "ipython3",
   "version": "3.9.2"
  }
 },
 "nbformat": 4,
 "nbformat_minor": 5
}
