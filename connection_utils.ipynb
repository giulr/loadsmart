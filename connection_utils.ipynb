{
 "cells": [
  {
   "cell_type": "code",
   "execution_count": 16,
   "id": "vulnerable-integration",
   "metadata": {},
   "outputs": [],
   "source": [
    "import pandas.io.sql as psql\n",
    "import psycopg2 as pg"
   ]
  },
  {
   "cell_type": "code",
   "execution_count": 17,
   "id": "established-withdrawal",
   "metadata": {},
   "outputs": [],
   "source": [
    "def connect():\n",
    "     return pg.connect(\"host=localhost dbname=dw user=postgres password=postgres\")\n",
    "    \n",
    "def check_table_existence(cursor, table_name):\n",
    "    cursor.execute(\"select * from information_schema.tables where table_name=%s\", (table_name,))\n",
    "    return bool(cursor.rowcount)\n",
    "\n",
    "def generate_columns_list(df):\n",
    "    return \", \".join([str(i) for i in df.columns.tolist()])\n",
    "\n",
    "def insert(df, connection, table_name):\n",
    "    cols = generate_columns_list(df)\n",
    "\n",
    "    for i,row in df.iterrows():\n",
    "        insert_script = \"INSERT INTO \" + table_name +   \"(\" +cols + \") VALUES (\" + \"%s,\"*(len(row)-1) + \"%s)\"\n",
    "        connection.cursor().execute(insert_script, tuple(row))\n",
    "    \n",
    "    connection.commit()"
   ]
  }
 ],
 "metadata": {
  "kernelspec": {
   "display_name": "Python 3",
   "language": "python",
   "name": "python3"
  },
  "language_info": {
   "codemirror_mode": {
    "name": "ipython",
    "version": 3
   },
   "file_extension": ".py",
   "mimetype": "text/x-python",
   "name": "python",
   "nbconvert_exporter": "python",
   "pygments_lexer": "ipython3",
   "version": "3.9.2"
  }
 },
 "nbformat": 4,
 "nbformat_minor": 5
}
