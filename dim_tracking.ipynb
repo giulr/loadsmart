{
 "cells": [
  {
   "cell_type": "code",
   "execution_count": 14,
   "id": "flexible-mailman",
   "metadata": {},
   "outputs": [],
   "source": [
    "import pandas as pd\n",
    "import connection_utils as conn\n",
    "import pandas.io.sql as psql"
   ]
  },
  {
   "cell_type": "code",
   "execution_count": 16,
   "id": "smooth-interstate",
   "metadata": {},
   "outputs": [
    {
     "name": "stdout",
     "output_type": "stream",
     "text": [
      "tracking dimension table has already been created\n"
     ]
    }
   ],
   "source": [
    "def execute():\n",
    "\n",
    "    connection = conn.connect()\n",
    "\n",
    "    df_tracking = psql.read_sql(''' SELECT DISTINCT has_mobile_app_tracking, has_macropoint_tracking, has_edi_tracking\n",
    "    FROM raw_data_challenge''', con=connection)\n",
    "\n",
    "    if not conn.check_table_existence(connection.cursor(), 'tracking_dim'):\n",
    "        create_dim_carrier = ('''\n",
    "                       CREATE TABLE public.tracking_dim\n",
    "                        (\n",
    "                            tracking_dim_id serial NOT NULL,\n",
    "                            has_mobile_app_tracking boolean,\n",
    "                            has_macropoint_tracking boolean,\n",
    "                            has_edi_tracking boolean,\n",
    "                            PRIMARY KEY (tracking_dim_id)\n",
    "                        );\n",
    "\n",
    "                        ALTER TABLE public.tracking_dim\n",
    "                            OWNER to postgres;\n",
    "        ''')\n",
    "        connection.cursor().execute(create_dim_carrier)\n",
    "        connection.commit()\n",
    "        print('tracking dimension table created successfully')\n",
    "    else:\n",
    "        print('tracking dimension table has already been created')\n",
    "\n",
    "    conn.insert(df_tracking, connection, 'tracking_dim')\n",
    "\n",
    "    connection.close()"
   ]
  }
 ],
 "metadata": {
  "kernelspec": {
   "display_name": "Python 3",
   "language": "python",
   "name": "python3"
  },
  "language_info": {
   "codemirror_mode": {
    "name": "ipython",
    "version": 3
   },
   "file_extension": ".py",
   "mimetype": "text/x-python",
   "name": "python",
   "nbconvert_exporter": "python",
   "pygments_lexer": "ipython3",
   "version": "3.9.2"
  }
 },
 "nbformat": 4,
 "nbformat_minor": 5
}
