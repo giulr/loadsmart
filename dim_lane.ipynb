{
 "cells": [
  {
   "cell_type": "code",
   "execution_count": 11,
   "id": "outstanding-focus",
   "metadata": {},
   "outputs": [],
   "source": [
    "import pandas as pd\n",
    "import connection_utils as conn\n",
    "import pandas.io.sql as psql"
   ]
  },
  {
   "cell_type": "code",
   "execution_count": 13,
   "id": "brilliant-attendance",
   "metadata": {},
   "outputs": [
    {
     "name": "stdout",
     "output_type": "stream",
     "text": [
      "lane dimension table created successfully\n"
     ]
    }
   ],
   "source": [
    "def execute():\n",
    "    connection = conn.connect()\n",
    "\n",
    "    df_lane = psql.read_sql(''' SELECT DISTINCT lane FROM raw_data_challenge''', con=connection)\\\n",
    "\n",
    "    if not conn.check_table_existence(connection.cursor(), 'lane_dim'):\n",
    "        create_dim_carrier = ('''\n",
    "                       CREATE TABLE public.lane_dim\n",
    "                        (\n",
    "                            lane_dim_id serial NOT NULL,\n",
    "                            lane character varying(500),\n",
    "                            PRIMARY KEY (lane_dim_id)\n",
    "                        );\n",
    "\n",
    "                        ALTER TABLE public.lane_dim\n",
    "                            OWNER to postgres;\n",
    "        ''')\n",
    "        connection.cursor().execute(create_dim_carrier)\n",
    "        connection.commit()\n",
    "        print('lane dimension table created successfully')\n",
    "    else:\n",
    "        print('lane dimension table has already been created')\n",
    "\n",
    "    conn.insert(df_lane, connection, 'lane_dim')\n",
    "\n",
    "    connection.close()"
   ]
  }
 ],
 "metadata": {
  "kernelspec": {
   "display_name": "Python 3",
   "language": "python",
   "name": "python3"
  },
  "language_info": {
   "codemirror_mode": {
    "name": "ipython",
    "version": 3
   },
   "file_extension": ".py",
   "mimetype": "text/x-python",
   "name": "python",
   "nbconvert_exporter": "python",
   "pygments_lexer": "ipython3",
   "version": "3.9.2"
  }
 },
 "nbformat": 4,
 "nbformat_minor": 5
}
